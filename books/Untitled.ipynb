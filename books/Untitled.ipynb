{
 "cells": [
  {
   "cell_type": "code",
   "execution_count": 1,
   "metadata": {},
   "outputs": [
    {
     "name": "stderr",
     "output_type": "stream",
     "text": [
      "/home/mandark/.conda/envs/machine_learning/lib/python3.6/site-packages/sklearn/utils/fixes.py:313: FutureWarning: numpy not_equal will not check object identity in the future. The comparison did not return the same result as suggested by the identity (`is`)) and will change.\n",
      "  _nan_object_mask = _nan_object_array != _nan_object_array\n"
     ]
    }
   ],
   "source": [
    "%reload_ext autoreload\n",
    "%autoreload 2\n",
    "%matplotlib inline\n",
    "\n",
    "import itertools\n",
    "import pandas as pd\n",
    "import numpy as np\n",
    "import matplotlib.pyplot as plt\n",
    "\n",
    "from sklearn.feature_extraction.text import TfidfVectorizer, CountVectorizer\n",
    "from sklearn.model_selection import train_test_split, GridSearchCV\n",
    "from sklearn.metrics import classification_report, confusion_matrix\n",
    "from sklearn.svm import SVC\n",
    "from sklearn.manifold import TSNE\n",
    "from sklearn.externals import joblib\n",
    "from sklearn.pipeline import make_pipeline\n",
    "from sklearn.decomposition import PCA"
   ]
  },
  {
   "cell_type": "code",
   "execution_count": 2,
   "metadata": {},
   "outputs": [],
   "source": [
    "df = pd.read_csv('books.csv')"
   ]
  },
  {
   "cell_type": "code",
   "execution_count": 3,
   "metadata": {},
   "outputs": [
    {
     "data": {
      "text/plain": [
       "Index(['Unnamed: 0', 'Harold Bindloss', 'Edward Phillips Oppenheim',\n",
       "       'John Galsworthy', 'Daniel Defoe', 'William Makepeace Thackeray',\n",
       "       'Herbert George Wells', 'Edmund Burke', 'Mark Twain',\n",
       "       'Sir Arthur Conan Doyle', 'Lord Byron', 'Jack London',\n",
       "       'Robert Louis Stevenson', 'John Ruskin', 'Charles Kingsley',\n",
       "       'Charles Dickens', 'James Fenimore Cooper', 'John Bunyan',\n",
       "       'Sir Walter Scott', 'R M Ballantyne', 'Jacob Abbott'],\n",
       "      dtype='object')"
      ]
     },
     "execution_count": 3,
     "metadata": {},
     "output_type": "execute_result"
    }
   ],
   "source": [
    "df.columns"
   ]
  },
  {
   "cell_type": "code",
   "execution_count": 4,
   "metadata": {
    "scrolled": true
   },
   "outputs": [
    {
     "data": {
      "text/html": [
       "<div>\n",
       "<style scoped>\n",
       "    .dataframe tbody tr th:only-of-type {\n",
       "        vertical-align: middle;\n",
       "    }\n",
       "\n",
       "    .dataframe tbody tr th {\n",
       "        vertical-align: top;\n",
       "    }\n",
       "\n",
       "    .dataframe thead th {\n",
       "        text-align: right;\n",
       "    }\n",
       "</style>\n",
       "<table border=\"1\" class=\"dataframe\">\n",
       "  <thead>\n",
       "    <tr style=\"text-align: right;\">\n",
       "      <th></th>\n",
       "      <th>Unnamed: 0</th>\n",
       "      <th>Harold Bindloss</th>\n",
       "      <th>Edward Phillips Oppenheim</th>\n",
       "      <th>John Galsworthy</th>\n",
       "      <th>Daniel Defoe</th>\n",
       "      <th>William Makepeace Thackeray</th>\n",
       "      <th>Herbert George Wells</th>\n",
       "      <th>Edmund Burke</th>\n",
       "      <th>Mark Twain</th>\n",
       "      <th>Sir Arthur Conan Doyle</th>\n",
       "      <th>...</th>\n",
       "      <th>Jack London</th>\n",
       "      <th>Robert Louis Stevenson</th>\n",
       "      <th>John Ruskin</th>\n",
       "      <th>Charles Kingsley</th>\n",
       "      <th>Charles Dickens</th>\n",
       "      <th>James Fenimore Cooper</th>\n",
       "      <th>John Bunyan</th>\n",
       "      <th>Sir Walter Scott</th>\n",
       "      <th>R M Ballantyne</th>\n",
       "      <th>Jacob Abbott</th>\n",
       "    </tr>\n",
       "  </thead>\n",
       "  <tbody>\n",
       "    <tr>\n",
       "      <th>0</th>\n",
       "      <td>0</td>\n",
       "      <td>was marked, the company paid small dividends a...</td>\n",
       "      <td>\"that you saw me. Are you up at this hour ever...</td>\n",
       "      <td>her effect, she broke off suddenly, and hastil...</td>\n",
       "      <td>them and to me. First, he turned to me, and po...</td>\n",
       "      <td>such a woman, of which the fruition could neve...</td>\n",
       "      <td>EXPERIMENTS; OF GRAND MONARCHY                ...</td>\n",
       "      <td>perpetuity or on lives,     after the tax of 1...</td>\n",
       "      <td>stands.  How strange it seems--this place!  Th...</td>\n",
       "      <td>designs, and had simply wished to obtain first...</td>\n",
       "      <td>...</td>\n",
       "      <td>dead reckoning can never calculate. Before lon...</td>\n",
       "      <td>the thought of what you may have seen off a fo...</td>\n",
       "      <td>we that dream.\"  _Essay on Criticism._  [260] ...</td>\n",
       "      <td>gleam of pathos and tenderness  seemed to shin...</td>\n",
       "      <td>have taken a great deal of pains with his whis...</td>\n",
       "      <td>smooth water, and with a whole-sail breeze, it...</td>\n",
       "      <td>shall but in one point offend, Breaks the whol...</td>\n",
       "      <td>Evandale's horse, which instantly sunk down de...</td>\n",
       "      <td>also for making acquaintance with the products...</td>\n",
       "      <td>The  Rollo Books  by  Jacob Abbott  [Illustra...</td>\n",
       "    </tr>\n",
       "    <tr>\n",
       "      <th>1</th>\n",
       "      <td>1</td>\n",
       "      <td>as much before.\"  \"I did,\" said Holbrook.  \"Th...</td>\n",
       "      <td>with the plowman by his side, but without any ...</td>\n",
       "      <td>regular black Highlander. What's the trouble e...</td>\n",
       "      <td>on exactly what conditions he was released fro...</td>\n",
       "      <td>of Miss Lowther, and singing with her out of t...</td>\n",
       "      <td>long time....  Buzard rose out of waves of sub...</td>\n",
       "      <td>of the present campaign. By those two capitula...</td>\n",
       "      <td>assumed the horizontal in the bottom of the bo...</td>\n",
       "      <td>best.\"  \"I perceive,\" said the prince, \"that y...</td>\n",
       "      <td>...</td>\n",
       "      <td>most for least, he faces a frightful slavery s...</td>\n",
       "      <td>done, and Lawless a prisoner in the church.  \"...</td>\n",
       "      <td>royal pilotage, being on the whole the most   ...</td>\n",
       "      <td>intellectual growth and ferment which communic...</td>\n",
       "      <td>idea yet, of Estella's views on the adoration ...</td>\n",
       "      <td>happy; the success of the day having infused a...</td>\n",
       "      <td>that he would make the very bed shake under hi...</td>\n",
       "      <td>beyond the pitch of most minds; and however ob...</td>\n",
       "      <td>to our prospects of finding deer hereabouts, a...</td>\n",
       "      <td>usual custom, he began his conversation by say...</td>\n",
       "    </tr>\n",
       "    <tr>\n",
       "      <th>2</th>\n",
       "      <td>2</td>\n",
       "      <td>make for Tomlinson. He had been a strong and h...</td>\n",
       "      <td>leaned forward in her chair, gazing steadily i...</td>\n",
       "      <td>never smiled.  Aunt Juley's bewildered, \"Fancy...</td>\n",
       "      <td>[183] London Bridge.  [184] This incident is s...</td>\n",
       "      <td>go to the very verge of caricature, and yet ne...</td>\n",
       "      <td>grey outline against the shimmer of the moon; ...</td>\n",
       "      <td>understand, to be sure, that I speak of Charle...</td>\n",
       "      <td>full of strong drink and patriotism; within fi...</td>\n",
       "      <td>The Hound of the Baskervilles  by Sir Arthur ...</td>\n",
       "      <td>...</td>\n",
       "      <td>of courage; and the end of the battle found hi...</td>\n",
       "      <td>cents. It's all found money to him, the way it...</td>\n",
       "      <td>Europæa._        _Night-jar of Europe_        ...</td>\n",
       "      <td>looked at, and a fresh Dryad gazed out  of eve...</td>\n",
       "      <td>returning to London.  Charles Dickens remained...</td>\n",
       "      <td>that service, for want of a good system; and c...</td>\n",
       "      <td>justified in the sight of God; so it is also a...</td>\n",
       "      <td>I have this day learned more of Duke Charles t...</td>\n",
       "      <td>head in, than out came a most awful growl.  Th...</td>\n",
       "      <td>gratification and improvement of the child, if...</td>\n",
       "    </tr>\n",
       "    <tr>\n",
       "      <th>3</th>\n",
       "      <td>3</td>\n",
       "      <td>Mrs. Ratcliffe smiled approvingly at last. \"Ye...</td>\n",
       "      <td>the blowing away of the window was merely a ru...</td>\n",
       "      <td>again.  I don't want----       He breaks off a...</td>\n",
       "      <td>tradesman ruined by marrying a good wife--in w...</td>\n",
       "      <td>so much. He is not a clever man----\"  \"He cert...</td>\n",
       "      <td>the earth. There is our Prince. He is in me, h...</td>\n",
       "      <td>rather than to the jury as matter of popular j...</td>\n",
       "      <td>acquiring sudden wealth was to \"salt\" a wild c...</td>\n",
       "      <td>76th, 81st, and 82nd (Colonel McDonnell). Besi...</td>\n",
       "      <td>...</td>\n",
       "      <td>breath in a half-sob, then tightened her lips ...</td>\n",
       "      <td>and a quieter. They draw fine ale, however--fa...</td>\n",
       "      <td>that he is ashamed to confess; with all that l...</td>\n",
       "      <td>therefore shall she not be removed.\"  It seems...</td>\n",
       "      <td>pen again; and before he went to bed wrote ano...</td>\n",
       "      <td>time mentioned, the vehicle drew up before the...</td>\n",
       "      <td>unbelief, whose foundation was ignorance and f...</td>\n",
       "      <td>they shall either fight or flee. Your grace sh...</td>\n",
       "      <td>feelings so as to attend to her.  She and the ...</td>\n",
       "      <td>reflecting,\" continued he, \"with great care on...</td>\n",
       "    </tr>\n",
       "    <tr>\n",
       "      <th>4</th>\n",
       "      <td>4</td>\n",
       "      <td>but how illogical!\" Grace remarked, and mused ...</td>\n",
       "      <td>grimly.  \"Got you into a kind of hornets' nest...</td>\n",
       "      <td>THE DARK FLOWER  by John Galsworthy          ...</td>\n",
       "      <td>so that, upon the whole, I thought it much my ...</td>\n",
       "      <td>been watching you these five minutes, Cat; and...</td>\n",
       "      <td>revolutionary idea to him.  He was still fendi...</td>\n",
       "      <td>the King, that this appeal was made and pleade...</td>\n",
       "      <td>itself is not joy but sorrow.  There is no hum...</td>\n",
       "      <td>efforts of old Gilray in the interests of law ...</td>\n",
       "      <td>...</td>\n",
       "      <td>operating table.  Among my minor afflictions, ...</td>\n",
       "      <td>replied the stranger, laying aside his magazin...</td>\n",
       "      <td>to address such an audience as you proposed, I...</td>\n",
       "      <td>that is another comfortable proof to us that t...</td>\n",
       "      <td>'Gone to bed, sir.'  'Tell him to get up, and ...</td>\n",
       "      <td>cultivation and accomplishments that were with...</td>\n",
       "      <td>[Illustration: Christian Confides in His Wife...</td>\n",
       "      <td>without any of those alarming consequences whi...</td>\n",
       "      <td>two, and that therefore it would be safer and ...</td>\n",
       "      <td>1555-1558  Mary's unhappy reign.--Unrequited l...</td>\n",
       "    </tr>\n",
       "  </tbody>\n",
       "</table>\n",
       "<p>5 rows × 21 columns</p>\n",
       "</div>"
      ],
      "text/plain": [
       "   Unnamed: 0                                    Harold Bindloss  \\\n",
       "0           0  was marked, the company paid small dividends a...   \n",
       "1           1  as much before.\"  \"I did,\" said Holbrook.  \"Th...   \n",
       "2           2  make for Tomlinson. He had been a strong and h...   \n",
       "3           3  Mrs. Ratcliffe smiled approvingly at last. \"Ye...   \n",
       "4           4  but how illogical!\" Grace remarked, and mused ...   \n",
       "\n",
       "                           Edward Phillips Oppenheim  \\\n",
       "0  \"that you saw me. Are you up at this hour ever...   \n",
       "1  with the plowman by his side, but without any ...   \n",
       "2  leaned forward in her chair, gazing steadily i...   \n",
       "3  the blowing away of the window was merely a ru...   \n",
       "4  grimly.  \"Got you into a kind of hornets' nest...   \n",
       "\n",
       "                                     John Galsworthy  \\\n",
       "0  her effect, she broke off suddenly, and hastil...   \n",
       "1  regular black Highlander. What's the trouble e...   \n",
       "2  never smiled.  Aunt Juley's bewildered, \"Fancy...   \n",
       "3  again.  I don't want----       He breaks off a...   \n",
       "4   THE DARK FLOWER  by John Galsworthy          ...   \n",
       "\n",
       "                                        Daniel Defoe  \\\n",
       "0  them and to me. First, he turned to me, and po...   \n",
       "1  on exactly what conditions he was released fro...   \n",
       "2  [183] London Bridge.  [184] This incident is s...   \n",
       "3  tradesman ruined by marrying a good wife--in w...   \n",
       "4  so that, upon the whole, I thought it much my ...   \n",
       "\n",
       "                         William Makepeace Thackeray  \\\n",
       "0  such a woman, of which the fruition could neve...   \n",
       "1  of Miss Lowther, and singing with her out of t...   \n",
       "2  go to the very verge of caricature, and yet ne...   \n",
       "3  so much. He is not a clever man----\"  \"He cert...   \n",
       "4  been watching you these five minutes, Cat; and...   \n",
       "\n",
       "                                Herbert George Wells  \\\n",
       "0  EXPERIMENTS; OF GRAND MONARCHY                ...   \n",
       "1  long time....  Buzard rose out of waves of sub...   \n",
       "2  grey outline against the shimmer of the moon; ...   \n",
       "3  the earth. There is our Prince. He is in me, h...   \n",
       "4  revolutionary idea to him.  He was still fendi...   \n",
       "\n",
       "                                        Edmund Burke  \\\n",
       "0  perpetuity or on lives,     after the tax of 1...   \n",
       "1  of the present campaign. By those two capitula...   \n",
       "2  understand, to be sure, that I speak of Charle...   \n",
       "3  rather than to the jury as matter of popular j...   \n",
       "4  the King, that this appeal was made and pleade...   \n",
       "\n",
       "                                          Mark Twain  \\\n",
       "0  stands.  How strange it seems--this place!  Th...   \n",
       "1  assumed the horizontal in the bottom of the bo...   \n",
       "2  full of strong drink and patriotism; within fi...   \n",
       "3  acquiring sudden wealth was to \"salt\" a wild c...   \n",
       "4  itself is not joy but sorrow.  There is no hum...   \n",
       "\n",
       "                              Sir Arthur Conan Doyle  \\\n",
       "0  designs, and had simply wished to obtain first...   \n",
       "1  best.\"  \"I perceive,\" said the prince, \"that y...   \n",
       "2   The Hound of the Baskervilles  by Sir Arthur ...   \n",
       "3  76th, 81st, and 82nd (Colonel McDonnell). Besi...   \n",
       "4  efforts of old Gilray in the interests of law ...   \n",
       "\n",
       "                         ...                          \\\n",
       "0                        ...                           \n",
       "1                        ...                           \n",
       "2                        ...                           \n",
       "3                        ...                           \n",
       "4                        ...                           \n",
       "\n",
       "                                         Jack London  \\\n",
       "0  dead reckoning can never calculate. Before lon...   \n",
       "1  most for least, he faces a frightful slavery s...   \n",
       "2  of courage; and the end of the battle found hi...   \n",
       "3  breath in a half-sob, then tightened her lips ...   \n",
       "4  operating table.  Among my minor afflictions, ...   \n",
       "\n",
       "                              Robert Louis Stevenson  \\\n",
       "0  the thought of what you may have seen off a fo...   \n",
       "1  done, and Lawless a prisoner in the church.  \"...   \n",
       "2  cents. It's all found money to him, the way it...   \n",
       "3  and a quieter. They draw fine ale, however--fa...   \n",
       "4  replied the stranger, laying aside his magazin...   \n",
       "\n",
       "                                         John Ruskin  \\\n",
       "0  we that dream.\"  _Essay on Criticism._  [260] ...   \n",
       "1  royal pilotage, being on the whole the most   ...   \n",
       "2  Europæa._        _Night-jar of Europe_        ...   \n",
       "3  that he is ashamed to confess; with all that l...   \n",
       "4  to address such an audience as you proposed, I...   \n",
       "\n",
       "                                    Charles Kingsley  \\\n",
       "0  gleam of pathos and tenderness  seemed to shin...   \n",
       "1  intellectual growth and ferment which communic...   \n",
       "2  looked at, and a fresh Dryad gazed out  of eve...   \n",
       "3  therefore shall she not be removed.\"  It seems...   \n",
       "4  that is another comfortable proof to us that t...   \n",
       "\n",
       "                                     Charles Dickens  \\\n",
       "0  have taken a great deal of pains with his whis...   \n",
       "1  idea yet, of Estella's views on the adoration ...   \n",
       "2  returning to London.  Charles Dickens remained...   \n",
       "3  pen again; and before he went to bed wrote ano...   \n",
       "4  'Gone to bed, sir.'  'Tell him to get up, and ...   \n",
       "\n",
       "                               James Fenimore Cooper  \\\n",
       "0  smooth water, and with a whole-sail breeze, it...   \n",
       "1  happy; the success of the day having infused a...   \n",
       "2  that service, for want of a good system; and c...   \n",
       "3  time mentioned, the vehicle drew up before the...   \n",
       "4  cultivation and accomplishments that were with...   \n",
       "\n",
       "                                         John Bunyan  \\\n",
       "0  shall but in one point offend, Breaks the whol...   \n",
       "1  that he would make the very bed shake under hi...   \n",
       "2  justified in the sight of God; so it is also a...   \n",
       "3  unbelief, whose foundation was ignorance and f...   \n",
       "4   [Illustration: Christian Confides in His Wife...   \n",
       "\n",
       "                                    Sir Walter Scott  \\\n",
       "0  Evandale's horse, which instantly sunk down de...   \n",
       "1  beyond the pitch of most minds; and however ob...   \n",
       "2  I have this day learned more of Duke Charles t...   \n",
       "3  they shall either fight or flee. Your grace sh...   \n",
       "4  without any of those alarming consequences whi...   \n",
       "\n",
       "                                      R M Ballantyne  \\\n",
       "0  also for making acquaintance with the products...   \n",
       "1  to our prospects of finding deer hereabouts, a...   \n",
       "2  head in, than out came a most awful growl.  Th...   \n",
       "3  feelings so as to attend to her.  She and the ...   \n",
       "4  two, and that therefore it would be safer and ...   \n",
       "\n",
       "                                        Jacob Abbott  \n",
       "0   The  Rollo Books  by  Jacob Abbott  [Illustra...  \n",
       "1  usual custom, he began his conversation by say...  \n",
       "2  gratification and improvement of the child, if...  \n",
       "3  reflecting,\" continued he, \"with great care on...  \n",
       "4  1555-1558  Mary's unhappy reign.--Unrequited l...  \n",
       "\n",
       "[5 rows x 21 columns]"
      ]
     },
     "execution_count": 4,
     "metadata": {},
     "output_type": "execute_result"
    }
   ],
   "source": [
    "df.head()"
   ]
  },
  {
   "cell_type": "markdown",
   "metadata": {},
   "source": [
    "Fit the TFid Vectorizer on all the dataset"
   ]
  },
  {
   "cell_type": "code",
   "execution_count": 5,
   "metadata": {},
   "outputs": [
    {
     "name": "stdout",
     "output_type": "stream",
     "text": [
      "(20, 20)\n",
      "180578\n"
     ]
    }
   ],
   "source": [
    "all_texts = df[df.columns[1:]].values\n",
    "print(all_texts.shape)\n",
    "all_texts = all_texts.flatten()\n",
    "all_texts.shape\n",
    "\n",
    "vectorizer = TfidfVectorizer(strip_accents='ascii', max_df=0.6)\n",
    "vectorizer.fit(all_texts)\n",
    "\n",
    "print(len(vectorizer.vocabulary_))"
   ]
  },
  {
   "cell_type": "markdown",
   "metadata": {},
   "source": [
    "Make a new dataframe for classification"
   ]
  },
  {
   "cell_type": "code",
   "execution_count": 6,
   "metadata": {},
   "outputs": [],
   "source": [
    "data = pd.DataFrame(columns=['author_name','text'])"
   ]
  },
  {
   "cell_type": "code",
   "execution_count": 7,
   "metadata": {},
   "outputs": [],
   "source": [
    "for column in df.columns[1:]: \n",
    "    for text in df[column].values:\n",
    "        data = data.append({\n",
    "                'author_name': column,\n",
    "                'text': text\n",
    "            }, ignore_index=True)"
   ]
  },
  {
   "cell_type": "markdown",
   "metadata": {},
   "source": [
    "Transform all the texts"
   ]
  },
  {
   "cell_type": "code",
   "execution_count": 8,
   "metadata": {},
   "outputs": [],
   "source": [
    "data['transformed_text'] = data['text'].transform(lambda text: vectorizer.transform([text]).toarray().flatten())"
   ]
  },
  {
   "cell_type": "code",
   "execution_count": 9,
   "metadata": {},
   "outputs": [],
   "source": [
    "data['author_id'] = pd.factorize(data['author_name'])[0]"
   ]
  },
  {
   "cell_type": "code",
   "execution_count": 10,
   "metadata": {},
   "outputs": [
    {
     "data": {
      "text/html": [
       "<div>\n",
       "<style scoped>\n",
       "    .dataframe tbody tr th:only-of-type {\n",
       "        vertical-align: middle;\n",
       "    }\n",
       "\n",
       "    .dataframe tbody tr th {\n",
       "        vertical-align: top;\n",
       "    }\n",
       "\n",
       "    .dataframe thead th {\n",
       "        text-align: right;\n",
       "    }\n",
       "</style>\n",
       "<table border=\"1\" class=\"dataframe\">\n",
       "  <thead>\n",
       "    <tr style=\"text-align: right;\">\n",
       "      <th></th>\n",
       "      <th>author_name</th>\n",
       "      <th>text</th>\n",
       "      <th>transformed_text</th>\n",
       "      <th>author_id</th>\n",
       "    </tr>\n",
       "  </thead>\n",
       "  <tbody>\n",
       "    <tr>\n",
       "      <th>0</th>\n",
       "      <td>Harold Bindloss</td>\n",
       "      <td>was marked, the company paid small dividends a...</td>\n",
       "      <td>[0.0, 0.0, 0.0, 0.0, 0.0, 0.0, 0.0, 0.0, 0.0, ...</td>\n",
       "      <td>0</td>\n",
       "    </tr>\n",
       "    <tr>\n",
       "      <th>1</th>\n",
       "      <td>Harold Bindloss</td>\n",
       "      <td>as much before.\"  \"I did,\" said Holbrook.  \"Th...</td>\n",
       "      <td>[0.0, 0.0, 0.0, 0.0, 0.0, 0.0, 0.0, 0.0, 0.0, ...</td>\n",
       "      <td>0</td>\n",
       "    </tr>\n",
       "    <tr>\n",
       "      <th>2</th>\n",
       "      <td>Harold Bindloss</td>\n",
       "      <td>make for Tomlinson. He had been a strong and h...</td>\n",
       "      <td>[0.0, 0.0, 0.0, 0.0, 0.0, 0.0, 0.0, 0.0, 0.0, ...</td>\n",
       "      <td>0</td>\n",
       "    </tr>\n",
       "    <tr>\n",
       "      <th>3</th>\n",
       "      <td>Harold Bindloss</td>\n",
       "      <td>Mrs. Ratcliffe smiled approvingly at last. \"Ye...</td>\n",
       "      <td>[0.0, 0.0, 0.0, 0.0, 0.0, 0.0, 0.0, 0.0, 0.0, ...</td>\n",
       "      <td>0</td>\n",
       "    </tr>\n",
       "    <tr>\n",
       "      <th>4</th>\n",
       "      <td>Harold Bindloss</td>\n",
       "      <td>but how illogical!\" Grace remarked, and mused ...</td>\n",
       "      <td>[0.0, 0.0, 0.0, 0.0, 0.0, 0.0, 0.0, 0.0, 0.0, ...</td>\n",
       "      <td>0</td>\n",
       "    </tr>\n",
       "  </tbody>\n",
       "</table>\n",
       "</div>"
      ],
      "text/plain": [
       "       author_name                                               text  \\\n",
       "0  Harold Bindloss  was marked, the company paid small dividends a...   \n",
       "1  Harold Bindloss  as much before.\"  \"I did,\" said Holbrook.  \"Th...   \n",
       "2  Harold Bindloss  make for Tomlinson. He had been a strong and h...   \n",
       "3  Harold Bindloss  Mrs. Ratcliffe smiled approvingly at last. \"Ye...   \n",
       "4  Harold Bindloss  but how illogical!\" Grace remarked, and mused ...   \n",
       "\n",
       "                                    transformed_text  author_id  \n",
       "0  [0.0, 0.0, 0.0, 0.0, 0.0, 0.0, 0.0, 0.0, 0.0, ...          0  \n",
       "1  [0.0, 0.0, 0.0, 0.0, 0.0, 0.0, 0.0, 0.0, 0.0, ...          0  \n",
       "2  [0.0, 0.0, 0.0, 0.0, 0.0, 0.0, 0.0, 0.0, 0.0, ...          0  \n",
       "3  [0.0, 0.0, 0.0, 0.0, 0.0, 0.0, 0.0, 0.0, 0.0, ...          0  \n",
       "4  [0.0, 0.0, 0.0, 0.0, 0.0, 0.0, 0.0, 0.0, 0.0, ...          0  "
      ]
     },
     "execution_count": 10,
     "metadata": {},
     "output_type": "execute_result"
    }
   ],
   "source": [
    "data.head()"
   ]
  },
  {
   "cell_type": "code",
   "execution_count": 30,
   "metadata": {},
   "outputs": [],
   "source": [
    "X = list(data['transformed_text'].values)\n",
    "y = data['author_id']\n",
    "X_train, X_test, y_train, y_test = train_test_split(X, y, )"
   ]
  },
  {
   "cell_type": "code",
   "execution_count": 38,
   "metadata": {},
   "outputs": [],
   "source": [
    "def best_results(model, parameters):\n",
    "    results = pd.DataFrame(model.cv_results_)\n",
    "    columns = [f'param_{key}'for key in parameters.keys()] + ['rank_test_score', 'mean_test_score']\n",
    "\n",
    "    return list(results[columns]\n",
    "             .sort_values(by='rank_test_score')[:5]\n",
    "             .T\n",
    "             .to_dict()\n",
    "             .values())\n",
    "\n",
    "def evaluate_classification_model(model, X, y):\n",
    "    print('Best Parameters of GridSearch ', model.best_params_)\n",
    "    \n",
    "    print('Models score', model.score(X, y))\n",
    "    \n",
    "    y_pred = model.predict(X)\n",
    "    print('Classification Report')\n",
    "    print(classification_report(y, y_pred))\n",
    "    \n",
    "    cm = confusion_matrix(y, y_pred)\n",
    "    plot_confusion_matrix(cm, data['author_name'].unique())\n",
    "\n",
    "def plot_confusion_matrix(cm, classes, \n",
    "                          normalize=False,\n",
    "                          title='Confusion matrix',\n",
    "                          cmap=plt.cm.Blues):\n",
    "    \"\"\"\n",
    "    This function prints and plots the confusion matrix.\n",
    "    Normalization can be applied by setting `normalize=True`.\n",
    "    \"\"\"\n",
    "    if normalize:\n",
    "        cm = cm.astype('float') / cm.sum(axis=1)[:, np.newaxis]\n",
    "    plt.imshow(cm, interpolation='nearest', cmap=cmap)\n",
    "    plt.title(title)\n",
    "    plt.colorbar()\n",
    "    tick_marks = np.arange(len(classes))\n",
    "    plt.xticks(tick_marks, classes, rotation=45)\n",
    "    plt.yticks(tick_marks, classes)\n",
    "\n",
    "    fmt = '.2f' if normalize else 'd'\n",
    "    thresh = cm.max() / 2.\n",
    "    for i, j in itertools.product(range(cm.shape[0]), range(cm.shape[1])):\n",
    "        plt.text(j, i, format(cm[i, j], fmt),\n",
    "                 horizontalalignment=\"center\",\n",
    "                 color=\"white\" if cm[i, j] > thresh else \"black\")\n",
    "\n",
    "    plt.tight_layout()\n",
    "    plt.ylabel('True label')\n",
    "    plt.xlabel('Predicted label')"
   ]
  },
  {
   "cell_type": "code",
   "execution_count": 24,
   "metadata": {},
   "outputs": [
    {
     "name": "stdout",
     "output_type": "stream",
     "text": [
      "Fitting 3 folds for each of 15 candidates, totalling 45 fits\n"
     ]
    },
    {
     "name": "stderr",
     "output_type": "stream",
     "text": [
      "[Parallel(n_jobs=-1)]: Using backend LokyBackend with 12 concurrent workers.\n",
      "[Parallel(n_jobs=-1)]: Done  17 tasks      | elapsed:  5.2min\n",
      "[Parallel(n_jobs=-1)]: Done  45 out of  45 | elapsed:  9.6min remaining:    0.0s\n",
      "[Parallel(n_jobs=-1)]: Done  45 out of  45 | elapsed:  9.6min finished\n",
      "/home/mandark/.conda/envs/machine_learning/lib/python3.6/site-packages/sklearn/model_selection/_search.py:841: DeprecationWarning: The default of the `iid` parameter will change from True to False in version 0.22 and will be removed in 0.24. This will change numeric results when test-set sizes are unequal.\n",
      "  DeprecationWarning)\n"
     ]
    },
    {
     "data": {
      "text/plain": [
       "GridSearchCV(cv=3, error_score='raise-deprecating',\n",
       "       estimator=SVC(C=1.0, cache_size=200, class_weight=None, coef0=0.0,\n",
       "  decision_function_shape='ovr', degree=3, gamma='auto_deprecated',\n",
       "  kernel='rbf', max_iter=-1, probability=False, random_state=None,\n",
       "  shrinking=True, tol=0.001, verbose=False),\n",
       "       fit_params=None, iid='warn', n_jobs=-1,\n",
       "       param_grid={'C': array([ 1. ,  1.1,  1.2,  1.3,  1.4]), 'kernel': ['linear'], 'gamma': [0.01, 0.05, 0.1]},\n",
       "       pre_dispatch='2*n_jobs', refit=True, return_train_score='warn',\n",
       "       scoring=None, verbose=2)"
      ]
     },
     "execution_count": 24,
     "metadata": {},
     "output_type": "execute_result"
    }
   ],
   "source": [
    "params = {\n",
    "    'C': np.arange(1, 1.5, 0.1),\n",
    "    'kernel': ['linear'],\n",
    "    'gamma': [0.01, 0.05, 0.1]\n",
    "}\n",
    "model = GridSearchCV(SVC(), param_grid=params, cv=3, n_jobs=-1, verbose=2)\n",
    "\n",
    "\n",
    "model.fit(list(X_train), y_train)"
   ]
  },
  {
   "cell_type": "code",
   "execution_count": 39,
   "metadata": {},
   "outputs": [
    {
     "name": "stdout",
     "output_type": "stream",
     "text": [
      "Best Parameters of GridSearch  {'C': 1.1000000000000001, 'gamma': 0.01, 'kernel': 'linear'}\n",
      "Models score 0.97\n",
      "Accuracy score\n",
      "0.97\n",
      "Classification Report\n",
      "              precision    recall  f1-score   support\n",
      "\n",
      "           0       1.00      1.00      1.00         3\n",
      "           1       0.57      1.00      0.73         4\n",
      "           2       1.00      1.00      1.00         5\n",
      "           3       1.00      1.00      1.00         5\n",
      "           4       1.00      1.00      1.00         2\n",
      "           5       1.00      1.00      1.00         3\n",
      "           6       1.00      1.00      1.00         3\n",
      "           7       1.00      1.00      1.00         8\n",
      "           8       1.00      0.83      0.91         6\n",
      "           9       1.00      1.00      1.00         4\n",
      "          10       1.00      1.00      1.00         3\n",
      "          11       1.00      1.00      1.00         5\n",
      "          12       1.00      1.00      1.00         9\n",
      "          13       1.00      1.00      1.00         8\n",
      "          14       1.00      1.00      1.00         3\n",
      "          15       1.00      1.00      1.00         8\n",
      "          16       1.00      1.00      1.00         7\n",
      "          17       1.00      0.80      0.89         5\n",
      "          18       1.00      1.00      1.00         3\n",
      "          19       1.00      0.83      0.91         6\n",
      "\n",
      "   micro avg       0.97      0.97      0.97       100\n",
      "   macro avg       0.98      0.97      0.97       100\n",
      "weighted avg       0.98      0.97      0.97       100\n",
      "\n"
     ]
    },
    {
     "data": {
      "image/png": "[encoded data removed]",
      "text/plain": [
       "<Figure size 432x288 with 2 Axes>"
      ]
     },
     "metadata": {
      "needs_background": "light"
     },
     "output_type": "display_data"
    }
   ],
   "source": [
    "evaluate_classification_model(model, X_test, y_test)"
   ]
  },
  {
   "cell_type": "code",
   "execution_count": 60,
   "metadata": {},
   "outputs": [
    {
     "data": {
      "text/plain": [
       "0.89000000000000001"
      ]
     },
     "execution_count": 60,
     "metadata": {},
     "output_type": "execute_result"
    }
   ],
   "source": [
    "model = SVC(C=1.1000000000000001, gamma=0.01, kernel='linear')\n",
    "model.fit(X_train, y_train)\n",
    "model.score(X_test, y_test)"
   ]
  },
  {
   "cell_type": "markdown",
   "metadata": {},
   "source": [
    "## SVM Classification using PCA"
   ]
  },
  {
   "cell_type": "code",
   "execution_count": 47,
   "metadata": {},
   "outputs": [
    {
     "name": "stdout",
     "output_type": "stream",
     "text": [
      "Fitting 3 folds for each of 148 candidates, totalling 444 fits\n"
     ]
    },
    {
     "name": "stderr",
     "output_type": "stream",
     "text": [
      "[Parallel(n_jobs=-1)]: Using backend LokyBackend with 12 concurrent workers.\n",
      "[Parallel(n_jobs=-1)]: Done  17 tasks      | elapsed:   27.0s\n",
      "[Parallel(n_jobs=-1)]: Done 138 tasks      | elapsed:  3.6min\n",
      "[Parallel(n_jobs=-1)]: Done 341 tasks      | elapsed: 14.8min\n",
      "[Parallel(n_jobs=-1)]: Done 444 out of 444 | elapsed: 22.6min finished\n",
      "/home/mandark/.conda/envs/machine_learning/lib/python3.6/site-packages/sklearn/model_selection/_search.py:841: DeprecationWarning: The default of the `iid` parameter will change from True to False in version 0.22 and will be removed in 0.24. This will change numeric results when test-set sizes are unequal.\n",
      "  DeprecationWarning)\n"
     ]
    },
    {
     "data": {
      "text/plain": [
       "GridSearchCV(cv=3, error_score='raise-deprecating',\n",
       "       estimator=Pipeline(memory=None,\n",
       "     steps=[('pca', PCA(copy=True, iterated_power='auto', n_components=None, random_state=None,\n",
       "  svd_solver='auto', tol=0.0, whiten=False)), ('svc', SVC(C=1.0, cache_size=200, class_weight=None, coef0=0.0,\n",
       "  decision_function_shape='ovr', degree=3, gamma='auto_deprecated',\n",
       "  kernel='rbf', max_iter=-1, probability=False, random_state=None,\n",
       "  shrinking=True, tol=0.001, verbose=False))]),\n",
       "       fit_params=None, iid='warn', n_jobs=-1,\n",
       "       param_grid={'pca__n_components': array([  5,  10,  15,  20,  25,  30,  35,  40,  45,  50,  55,  60,  65,\n",
       "        70,  75,  80,  85,  90,  95, 100, 105, 110, 115, 120, 125, 130,\n",
       "       135, 140, 145, 150, 155, 160, 165, 170, 175, 180, 185], dtype=int16), 'svc__C': [1.4, 1.1], 'svc__gamma': [0.01, 0.1], 'svc__kernel': ['linear']},\n",
       "       pre_dispatch='2*n_jobs', refit=True, return_train_score='warn',\n",
       "       scoring=None, verbose=2)"
      ]
     },
     "execution_count": 47,
     "metadata": {},
     "output_type": "execute_result"
    }
   ],
   "source": [
    "parameters = {\n",
    "    'pca__n_components': np.arange(5, 190, 5, dtype=np.int16),\n",
    "    'svc__C': [1.4, 1.1],\n",
    "    'svc__gamma': [0.01, 0.1],\n",
    "    \n",
    "    'svc__kernel': ['linear']\n",
    "    \n",
    "}\n",
    "model = GridSearchCV(make_pipeline(PCA(), SVC()), parameters, cv=3, n_jobs=-1, verbose=2)\n",
    "model.fit(X_train, y_train)"
   ]
  },
  {
   "cell_type": "code",
   "execution_count": 48,
   "metadata": {},
   "outputs": [
    {
     "name": "stdout",
     "output_type": "stream",
     "text": [
      "Best Parameters of GridSearch  {'pca__n_components': 120, 'svc__C': 1.4, 'svc__gamma': 0.1, 'svc__kernel': 'linear'}\n",
      "Models score 0.85\n",
      "Accuracy score\n",
      "0.85\n",
      "Classification Report\n",
      "              precision    recall  f1-score   support\n",
      "\n",
      "           0       0.75      1.00      0.86         3\n",
      "           1       0.57      1.00      0.73         4\n",
      "           2       1.00      1.00      1.00         5\n",
      "           3       1.00      1.00      1.00         5\n",
      "           4       1.00      1.00      1.00         2\n",
      "           5       0.50      1.00      0.67         3\n",
      "           6       1.00      1.00      1.00         3\n",
      "           7       1.00      1.00      1.00         8\n",
      "           8       1.00      0.50      0.67         6\n",
      "           9       1.00      1.00      1.00         4\n",
      "          10       1.00      1.00      1.00         3\n",
      "          11       0.75      0.60      0.67         5\n",
      "          12       1.00      1.00      1.00         9\n",
      "          13       1.00      0.88      0.93         8\n",
      "          14       0.50      1.00      0.67         3\n",
      "          15       1.00      0.62      0.77         8\n",
      "          16       1.00      1.00      1.00         7\n",
      "          17       0.75      0.60      0.67         5\n",
      "          18       0.40      0.67      0.50         3\n",
      "          19       1.00      0.50      0.67         6\n",
      "\n",
      "   micro avg       0.85      0.85      0.85       100\n",
      "   macro avg       0.86      0.87      0.84       100\n",
      "weighted avg       0.90      0.85      0.85       100\n",
      "\n"
     ]
    },
    {
     "data": {
      "image/png": "[encoded data removed]",
      "text/plain": [
       "<Figure size 432x288 with 2 Axes>"
      ]
     },
     "metadata": {
      "needs_background": "light"
     },
     "output_type": "display_data"
    }
   ],
   "source": [
    "evaluate_classification_model(model, X_test, y_test)"
   ]
  },
  {
   "cell_type": "code",
   "execution_count": 49,
   "metadata": {},
   "outputs": [
    {
     "name": "stderr",
     "output_type": "stream",
     "text": [
      "/home/mandark/.conda/envs/machine_learning/lib/python3.6/site-packages/sklearn/utils/deprecation.py:125: FutureWarning: You are accessing a training score ('split0_train_score'), which will not be available by default any more in 0.21. If you need training scores, please set return_train_score=True\n",
      "  warnings.warn(*warn_args, **warn_kwargs)\n",
      "/home/mandark/.conda/envs/machine_learning/lib/python3.6/site-packages/sklearn/utils/deprecation.py:125: FutureWarning: You are accessing a training score ('split1_train_score'), which will not be available by default any more in 0.21. If you need training scores, please set return_train_score=True\n",
      "  warnings.warn(*warn_args, **warn_kwargs)\n",
      "/home/mandark/.conda/envs/machine_learning/lib/python3.6/site-packages/sklearn/utils/deprecation.py:125: FutureWarning: You are accessing a training score ('split2_train_score'), which will not be available by default any more in 0.21. If you need training scores, please set return_train_score=True\n",
      "  warnings.warn(*warn_args, **warn_kwargs)\n",
      "/home/mandark/.conda/envs/machine_learning/lib/python3.6/site-packages/sklearn/utils/deprecation.py:125: FutureWarning: You are accessing a training score ('mean_train_score'), which will not be available by default any more in 0.21. If you need training scores, please set return_train_score=True\n",
      "  warnings.warn(*warn_args, **warn_kwargs)\n",
      "/home/mandark/.conda/envs/machine_learning/lib/python3.6/site-packages/sklearn/utils/deprecation.py:125: FutureWarning: You are accessing a training score ('std_train_score'), which will not be available by default any more in 0.21. If you need training scores, please set return_train_score=True\n",
      "  warnings.warn(*warn_args, **warn_kwargs)\n"
     ]
    },
    {
     "data": {
      "text/html": [
       "<div>\n",
       "<style scoped>\n",
       "    .dataframe tbody tr th:only-of-type {\n",
       "        vertical-align: middle;\n",
       "    }\n",
       "\n",
       "    .dataframe tbody tr th {\n",
       "        vertical-align: top;\n",
       "    }\n",
       "\n",
       "    .dataframe thead th {\n",
       "        text-align: right;\n",
       "    }\n",
       "</style>\n",
       "<table border=\"1\" class=\"dataframe\">\n",
       "  <thead>\n",
       "    <tr style=\"text-align: right;\">\n",
       "      <th></th>\n",
       "      <th>mean_fit_time</th>\n",
       "      <th>std_fit_time</th>\n",
       "      <th>mean_score_time</th>\n",
       "      <th>std_score_time</th>\n",
       "      <th>param_pca__n_components</th>\n",
       "      <th>param_svc__C</th>\n",
       "      <th>param_svc__gamma</th>\n",
       "      <th>param_svc__kernel</th>\n",
       "      <th>params</th>\n",
       "      <th>split0_test_score</th>\n",
       "      <th>split1_test_score</th>\n",
       "      <th>split2_test_score</th>\n",
       "      <th>mean_test_score</th>\n",
       "      <th>std_test_score</th>\n",
       "      <th>rank_test_score</th>\n",
       "      <th>split0_train_score</th>\n",
       "      <th>split1_train_score</th>\n",
       "      <th>split2_train_score</th>\n",
       "      <th>mean_train_score</th>\n",
       "      <th>std_train_score</th>\n",
       "    </tr>\n",
       "  </thead>\n",
       "  <tbody>\n",
       "    <tr>\n",
       "      <th>117</th>\n",
       "      <td>48.911014</td>\n",
       "      <td>1.033006</td>\n",
       "      <td>1.585499</td>\n",
       "      <td>0.133420</td>\n",
       "      <td>150</td>\n",
       "      <td>1.4</td>\n",
       "      <td>0.1</td>\n",
       "      <td>linear</td>\n",
       "      <td>{'pca__n_components': 150, 'svc__C': 1.4, 'svc...</td>\n",
       "      <td>0.847619</td>\n",
       "      <td>0.862745</td>\n",
       "      <td>0.817204</td>\n",
       "      <td>0.843333</td>\n",
       "      <td>0.018606</td>\n",
       "      <td>1</td>\n",
       "      <td>1.0</td>\n",
       "      <td>1.0</td>\n",
       "      <td>1.0</td>\n",
       "      <td>1.0</td>\n",
       "      <td>0.0</td>\n",
       "    </tr>\n",
       "    <tr>\n",
       "      <th>121</th>\n",
       "      <td>54.766570</td>\n",
       "      <td>2.153897</td>\n",
       "      <td>1.435695</td>\n",
       "      <td>0.081789</td>\n",
       "      <td>155</td>\n",
       "      <td>1.4</td>\n",
       "      <td>0.1</td>\n",
       "      <td>linear</td>\n",
       "      <td>{'pca__n_components': 155, 'svc__C': 1.4, 'svc...</td>\n",
       "      <td>0.847619</td>\n",
       "      <td>0.852941</td>\n",
       "      <td>0.827957</td>\n",
       "      <td>0.843333</td>\n",
       "      <td>0.010541</td>\n",
       "      <td>1</td>\n",
       "      <td>1.0</td>\n",
       "      <td>1.0</td>\n",
       "      <td>1.0</td>\n",
       "      <td>1.0</td>\n",
       "      <td>0.0</td>\n",
       "    </tr>\n",
       "    <tr>\n",
       "      <th>120</th>\n",
       "      <td>58.904079</td>\n",
       "      <td>0.936229</td>\n",
       "      <td>1.420045</td>\n",
       "      <td>0.031515</td>\n",
       "      <td>155</td>\n",
       "      <td>1.4</td>\n",
       "      <td>0.01</td>\n",
       "      <td>linear</td>\n",
       "      <td>{'pca__n_components': 155, 'svc__C': 1.4, 'svc...</td>\n",
       "      <td>0.847619</td>\n",
       "      <td>0.852941</td>\n",
       "      <td>0.827957</td>\n",
       "      <td>0.843333</td>\n",
       "      <td>0.010541</td>\n",
       "      <td>1</td>\n",
       "      <td>1.0</td>\n",
       "      <td>1.0</td>\n",
       "      <td>1.0</td>\n",
       "      <td>1.0</td>\n",
       "      <td>0.0</td>\n",
       "    </tr>\n",
       "    <tr>\n",
       "      <th>93</th>\n",
       "      <td>40.457028</td>\n",
       "      <td>0.869578</td>\n",
       "      <td>1.491152</td>\n",
       "      <td>0.018905</td>\n",
       "      <td>120</td>\n",
       "      <td>1.4</td>\n",
       "      <td>0.1</td>\n",
       "      <td>linear</td>\n",
       "      <td>{'pca__n_components': 120, 'svc__C': 1.4, 'svc...</td>\n",
       "      <td>0.857143</td>\n",
       "      <td>0.852941</td>\n",
       "      <td>0.817204</td>\n",
       "      <td>0.843333</td>\n",
       "      <td>0.017600</td>\n",
       "      <td>1</td>\n",
       "      <td>1.0</td>\n",
       "      <td>1.0</td>\n",
       "      <td>1.0</td>\n",
       "      <td>1.0</td>\n",
       "      <td>0.0</td>\n",
       "    </tr>\n",
       "    <tr>\n",
       "      <th>141</th>\n",
       "      <td>55.778151</td>\n",
       "      <td>1.343606</td>\n",
       "      <td>1.442393</td>\n",
       "      <td>0.112842</td>\n",
       "      <td>180</td>\n",
       "      <td>1.4</td>\n",
       "      <td>0.1</td>\n",
       "      <td>linear</td>\n",
       "      <td>{'pca__n_components': 180, 'svc__C': 1.4, 'svc...</td>\n",
       "      <td>0.847619</td>\n",
       "      <td>0.852941</td>\n",
       "      <td>0.827957</td>\n",
       "      <td>0.843333</td>\n",
       "      <td>0.010541</td>\n",
       "      <td>1</td>\n",
       "      <td>1.0</td>\n",
       "      <td>1.0</td>\n",
       "      <td>1.0</td>\n",
       "      <td>1.0</td>\n",
       "      <td>0.0</td>\n",
       "    </tr>\n",
       "  </tbody>\n",
       "</table>\n",
       "</div>"
      ],
      "text/plain": [
       "     mean_fit_time  std_fit_time  mean_score_time  std_score_time  \\\n",
       "117      48.911014      1.033006         1.585499        0.133420   \n",
       "121      54.766570      2.153897         1.435695        0.081789   \n",
       "120      58.904079      0.936229         1.420045        0.031515   \n",
       "93       40.457028      0.869578         1.491152        0.018905   \n",
       "141      55.778151      1.343606         1.442393        0.112842   \n",
       "\n",
       "    param_pca__n_components param_svc__C param_svc__gamma param_svc__kernel  \\\n",
       "117                     150          1.4              0.1            linear   \n",
       "121                     155          1.4              0.1            linear   \n",
       "120                     155          1.4             0.01            linear   \n",
       "93                      120          1.4              0.1            linear   \n",
       "141                     180          1.4              0.1            linear   \n",
       "\n",
       "                                                params  split0_test_score  \\\n",
       "117  {'pca__n_components': 150, 'svc__C': 1.4, 'svc...           0.847619   \n",
       "121  {'pca__n_components': 155, 'svc__C': 1.4, 'svc...           0.847619   \n",
       "120  {'pca__n_components': 155, 'svc__C': 1.4, 'svc...           0.847619   \n",
       "93   {'pca__n_components': 120, 'svc__C': 1.4, 'svc...           0.857143   \n",
       "141  {'pca__n_components': 180, 'svc__C': 1.4, 'svc...           0.847619   \n",
       "\n",
       "     split1_test_score  split2_test_score  mean_test_score  std_test_score  \\\n",
       "117           0.862745           0.817204         0.843333        0.018606   \n",
       "121           0.852941           0.827957         0.843333        0.010541   \n",
       "120           0.852941           0.827957         0.843333        0.010541   \n",
       "93            0.852941           0.817204         0.843333        0.017600   \n",
       "141           0.852941           0.827957         0.843333        0.010541   \n",
       "\n",
       "     rank_test_score  split0_train_score  split1_train_score  \\\n",
       "117                1                 1.0                 1.0   \n",
       "121                1                 1.0                 1.0   \n",
       "120                1                 1.0                 1.0   \n",
       "93                 1                 1.0                 1.0   \n",
       "141                1                 1.0                 1.0   \n",
       "\n",
       "     split2_train_score  mean_train_score  std_train_score  \n",
       "117                 1.0               1.0              0.0  \n",
       "121                 1.0               1.0              0.0  \n",
       "120                 1.0               1.0              0.0  \n",
       "93                  1.0               1.0              0.0  \n",
       "141                 1.0               1.0              0.0  "
      ]
     },
     "execution_count": 49,
     "metadata": {},
     "output_type": "execute_result"
    }
   ],
   "source": [
    "pd.DataFrame(model.cv_results_).sort_values(by='rank_test_score')[:5]"
   ]
  },
  {
   "cell_type": "code",
   "execution_count": 53,
   "metadata": {},
   "outputs": [
    {
     "name": "stdout",
     "output_type": "stream",
     "text": [
      "Fitting 3 folds for each of 20 candidates, totalling 60 fits\n"
     ]
    },
    {
     "name": "stderr",
     "output_type": "stream",
     "text": [
      "[Parallel(n_jobs=-1)]: Using backend LokyBackend with 12 concurrent workers.\n",
      "[Parallel(n_jobs=-1)]: Done  17 tasks      | elapsed:  1.5min\n",
      "[Parallel(n_jobs=-1)]: Done  60 out of  60 | elapsed:  4.5min finished\n",
      "/home/mandark/.conda/envs/machine_learning/lib/python3.6/site-packages/sklearn/model_selection/_search.py:841: DeprecationWarning: The default of the `iid` parameter will change from True to False in version 0.22 and will be removed in 0.24. This will change numeric results when test-set sizes are unequal.\n",
      "  DeprecationWarning)\n"
     ]
    },
    {
     "data": {
      "text/plain": [
       "GridSearchCV(cv=3, error_score='raise-deprecating',\n",
       "       estimator=Pipeline(memory=None,\n",
       "     steps=[('pca', PCA(copy=True, iterated_power='auto', n_components=None, random_state=None,\n",
       "  svd_solver='auto', tol=0.0, whiten=False)), ('svc', SVC(C=1.0, cache_size=200, class_weight=None, coef0=0.0,\n",
       "  decision_function_shape='ovr', degree=3, gamma='auto_deprecated',\n",
       "  kernel='rbf', max_iter=-1, probability=False, random_state=None,\n",
       "  shrinking=True, tol=0.001, verbose=False))]),\n",
       "       fit_params=None, iid='warn', n_jobs=-1,\n",
       "       param_grid={'pca__n_components': array([100, 105, 110, 115, 120, 125, 130, 135, 140, 145, 150, 155, 160,\n",
       "       165, 170, 175, 180, 185, 190, 195], dtype=int16), 'svc__C': [1.1], 'svc__gamma': [0.01], 'svc__kernel': ['linear']},\n",
       "       pre_dispatch='2*n_jobs', refit=True, return_train_score='warn',\n",
       "       scoring=None, verbose=2)"
      ]
     },
     "execution_count": 53,
     "metadata": {},
     "output_type": "execute_result"
    }
   ],
   "source": [
    "parameters = {\n",
    "    'pca__n_components': np.arange(100, 200, 5, dtype=np.int16),\n",
    "    'svc__C': [1.1],\n",
    "    'svc__gamma': [0.01],\n",
    "    'svc__kernel': ['linear']\n",
    "    \n",
    "}\n",
    "model = GridSearchCV(make_pipeline(PCA(), SVC()), parameters, cv=3, n_jobs=-1, verbose=2)\n",
    "model.fit(X_train, y_train)"
   ]
  },
  {
   "cell_type": "code",
   "execution_count": 54,
   "metadata": {},
   "outputs": [
    {
     "name": "stdout",
     "output_type": "stream",
     "text": [
      "Best Parameters of GridSearch  {'pca__n_components': 185, 'svc__C': 1.1, 'svc__gamma': 0.01, 'svc__kernel': 'linear'}\n",
      "Models score 0.89\n",
      "Accuracy score\n",
      "0.89\n",
      "Classification Report\n",
      "              precision    recall  f1-score   support\n",
      "\n",
      "           0       1.00      1.00      1.00         3\n",
      "           1       0.44      1.00      0.62         4\n",
      "           2       1.00      1.00      1.00         5\n",
      "           3       1.00      1.00      1.00         5\n",
      "           4       1.00      1.00      1.00         2\n",
      "           5       0.50      1.00      0.67         3\n",
      "           6       1.00      1.00      1.00         3\n",
      "           7       1.00      1.00      1.00         8\n",
      "           8       1.00      0.67      0.80         6\n",
      "           9       1.00      1.00      1.00         4\n",
      "          10       1.00      1.00      1.00         3\n",
      "          11       1.00      0.80      0.89         5\n",
      "          12       1.00      1.00      1.00         9\n",
      "          13       1.00      0.88      0.93         8\n",
      "          14       0.75      1.00      0.86         3\n",
      "          15       1.00      0.88      0.93         8\n",
      "          16       1.00      1.00      1.00         7\n",
      "          17       0.75      0.60      0.67         5\n",
      "          18       0.67      0.67      0.67         3\n",
      "          19       1.00      0.50      0.67         6\n",
      "\n",
      "   micro avg       0.89      0.89      0.89       100\n",
      "   macro avg       0.91      0.90      0.88       100\n",
      "weighted avg       0.93      0.89      0.90       100\n",
      "\n"
     ]
    },
    {
     "data": {
      "image/png": "[encoded data removed]",
      "text/plain": [
       "<Figure size 432x288 with 2 Axes>"
      ]
     },
     "metadata": {
      "needs_background": "light"
     },
     "output_type": "display_data"
    }
   ],
   "source": [
    "evaluate_classification_model(model, X_test, y_test)"
   ]
  },
  {
   "cell_type": "code",
   "execution_count": 66,
   "metadata": {},
   "outputs": [
    {
     "data": {
      "text/plain": [
       "<matplotlib.collections.PathCollection at 0x7fa4525a1278>"
      ]
     },
     "execution_count": 66,
     "metadata": {},
     "output_type": "execute_result"
    },
    {
     "data": {
      "image/png": "[encoded data removed]",
      "text/plain": [
       "<Figure size 432x288 with 1 Axes>"
      ]
     },
     "metadata": {
      "needs_background": "light"
     },
     "output_type": "display_data"
    }
   ],
   "source": [
    "tsne = TSNE(n_components=2)\n",
    "x_embd = tsne.fit_transform(X)\n",
    "plt.scatter(x_embd[:, 0], x_embd[:, 1])\n",
    "plt.scatter(x_embd[:, 0], x_embd[:, 1], marker='*')"
   ]
  },
  {
   "cell_type": "markdown",
   "metadata": {},
   "source": [
    "## Clustering"
   ]
  },
  {
   "cell_type": "code",
   "execution_count": 20,
   "metadata": {},
   "outputs": [],
   "source": [
    "from sklearn.cluster import DBSCAN, KMeans, AgglomerativeClustering\n",
    "from sklearn.metrics import silhouette_score, adjusted_rand_score, homogeneity_score, completeness_score"
   ]
  },
  {
   "cell_type": "code",
   "execution_count": 13,
   "metadata": {},
   "outputs": [],
   "source": [
    "X = data['transformed_text'].values\n",
    "y = np.zeros(X.shape)\n",
    "X = list(X)"
   ]
  },
  {
   "cell_type": "code",
   "execution_count": 50,
   "metadata": {},
   "outputs": [
    {
     "name": "stdout",
     "output_type": "stream",
     "text": [
      "0.108398054345\n"
     ]
    }
   ],
   "source": [
    "pca2 = PCA(n_components=100)\n",
    "X_train = pca2.fit_transform(X)\n",
    "kmeans = KMeans(n_clusters=5, init='random')\n",
    "kmeans.fit(X_train)\n"
   ]
  },
  {
   "cell_type": "code",
   "execution_count": 59,
   "metadata": {},
   "outputs": [
    {
     "name": "stdout",
     "output_type": "stream",
     "text": [
      "eps: 0.7 clusters: {-1: 388, 0: 7, 1: 5}\n",
      "eps: 0.8 clusters: {-1: 379, 0: 6, 1: 10, 2: 5}\n",
      "eps: 0.9 clusters: {-1: 365, 0: 8, 1: 5, 2: 15, 3: 7}\n",
      "eps: 1.0 clusters: {-1: 341, 0: 5, 1: 8, 2: 7, 3: 5, 4: 8, 5: 19, 6: 7}\n",
      "eps: 1.1 clusters: {-1: 304, 0: 5, 1: 5, 2: 6, 3: 18, 4: 8, 5: 14, 6: 7, 7: 25, 8: 8}\n",
      "eps: 1.2 clusters: {-1: 264, 0: 8, 1: 8, 2: 11, 3: 56, 4: 12, 5: 5, 6: 26, 7: 10}\n",
      "eps: 1.3 clusters: {-1: 187, 0: 163, 1: 8, 2: 14, 3: 14, 4: 6, 5: 3, 6: 5}\n",
      "eps: 1.4 clusters: {0: 400}\n",
      "eps: 1.5 clusters: {0: 400}\n",
      "eps: 1.6 clusters: {0: 400}\n",
      "eps: 1.7 clusters: {0: 400}\n",
      "eps: 1.8 clusters: {0: 400}\n",
      "eps: 1.9 clusters: {0: 400}\n"
     ]
    }
   ],
   "source": [
    "epsilon = np.arange(0.7, 2, 0.1)\n",
    "\n",
    "for e in epsilon:\n",
    "    cluster = {}\n",
    "    dbscan = DBSCAN(eps=e)\n",
    "    dbscan.fit(X)\n",
    "    cluster[\"algorithm\"] = \"DBSCAN\"\n",
    "    cluster[\"labels\"] = dbscan.labels_\n",
    "    cluster[\"parameters\"] = {'eps': e}\n",
    "\n",
    "    unique, counts = np.unique(dbscan.labels_, return_counts=True)\n",
    "    print(\"eps:\",e,\"clusters:\", dict(zip(unique, counts)))"
   ]
  },
  {
   "cell_type": "code",
   "execution_count": 62,
   "metadata": {},
   "outputs": [
    {
     "name": "stdout",
     "output_type": "stream",
     "text": [
      "n:  5  clusters: {0: 324, 1: 25, 2: 14, 3: 20, 4: 17}\n",
      "n:  6  clusters: {0: 17, 1: 25, 2: 302, 3: 20, 4: 6, 5: 30}\n",
      "n:  7  clusters: {0: 9, 1: 25, 2: 20, 3: 260, 4: 34, 5: 42, 6: 10}\n",
      "n:  8  clusters: {0: 11, 1: 15, 2: 25, 3: 34, 4: 26, 5: 259, 6: 21, 7: 9}\n",
      "n:  9  clusters: {0: 238, 1: 13, 2: 25, 3: 19, 4: 48, 5: 21, 6: 17, 7: 9, 8: 10}\n",
      "n:  10  clusters: {0: 8, 1: 19, 2: 27, 3: 18, 4: 23, 5: 21, 6: 10, 7: 56, 8: 210, 9: 8}\n",
      "n:  11  clusters: {0: 52, 1: 14, 2: 21, 3: 10, 4: 4, 5: 25, 6: 18, 7: 216, 8: 21, 9: 8, 10: 11}\n",
      "n:  12  clusters: {0: 178, 1: 10, 2: 25, 3: 10, 4: 35, 5: 23, 6: 33, 7: 22, 8: 24, 9: 18, 10: 13, 11: 9}\n",
      "n:  13  clusters: {0: 47, 1: 10, 2: 10, 3: 18, 4: 150, 5: 15, 6: 14, 7: 9, 8: 10, 9: 19, 10: 53, 11: 11, 12: 34}\n",
      "n:  14  clusters: {0: 25, 1: 135, 2: 19, 3: 9, 4: 23, 5: 18, 6: 10, 7: 22, 8: 13, 9: 18, 10: 12, 11: 43, 12: 12, 13: 41}\n",
      "n:  15  clusters: {0: 6, 1: 13, 2: 9, 3: 18, 4: 48, 5: 14, 6: 24, 7: 35, 8: 9, 9: 8, 10: 15, 11: 21, 12: 10, 13: 21, 14: 149}\n",
      "n:  16  clusters: {0: 20, 1: 25, 2: 11, 3: 43, 4: 8, 5: 9, 6: 138, 7: 14, 8: 16, 9: 21, 10: 6, 11: 32, 12: 9, 13: 22, 14: 18, 15: 8}\n",
      "n:  17  clusters: {0: 10, 1: 25, 2: 44, 3: 5, 4: 12, 5: 7, 6: 15, 7: 17, 8: 66, 9: 103, 10: 19, 11: 4, 12: 26, 13: 10, 14: 17, 15: 11, 16: 9}\n",
      "n:  18  clusters: {0: 136, 1: 14, 2: 19, 3: 21, 4: 7, 5: 18, 6: 3, 7: 9, 8: 13, 9: 4, 10: 16, 11: 27, 12: 8, 13: 12, 14: 23, 15: 8, 16: 37, 17: 25}\n",
      "n:  19  clusters: {0: 22, 1: 8, 2: 18, 3: 35, 4: 12, 5: 7, 6: 3, 7: 164, 8: 9, 9: 21, 10: 10, 11: 8, 12: 4, 13: 6, 14: 20, 15: 15, 16: 25, 17: 3, 18: 10}\n"
     ]
    }
   ],
   "source": [
    "for n in np.arange(5, 20):\n",
    "    kmeans = KMeans(n_clusters=n)\n",
    "    kmeans.fit(X)\n",
    "    unique, counts = np.unique(kmeans.labels_, return_counts=True)\n",
    "    print(\"n: \", n, \" clusters:\", dict(zip(unique, counts)))"
   ]
  },
  {
   "cell_type": "code",
   "execution_count": 74,
   "metadata": {},
   "outputs": [
    {
     "name": "stdout",
     "output_type": "stream",
     "text": [
      "0.0562609774015\n",
      "n:  20  clusters: {0: 30, 1: 4, 2: 9, 3: 29, 4: 18, 5: 10, 6: 25, 7: 20, 8: 9, 9: 18, 10: 5, 11: 10, 12: 13, 13: 7, 14: 3, 15: 9, 16: 18, 17: 8, 18: 148, 19: 7}\n",
      "0.0583114562708\n",
      "n:  21  clusters: {0: 9, 1: 25, 2: 24, 3: 16, 4: 28, 5: 52, 6: 4, 7: 52, 8: 3, 9: 27, 10: 18, 11: 8, 12: 9, 13: 26, 14: 10, 15: 18, 16: 8, 17: 10, 18: 7, 19: 32, 20: 14}\n",
      "0.053163452214\n",
      "n:  22  clusters: {0: 15, 1: 83, 2: 11, 3: 13, 4: 8, 5: 32, 6: 8, 7: 3, 8: 25, 9: 8, 10: 50, 11: 7, 12: 7, 13: 34, 14: 9, 15: 20, 16: 9, 17: 19, 18: 9, 19: 8, 20: 9, 21: 13}\n",
      "0.0593065883293\n",
      "n:  23  clusters: {0: 27, 1: 25, 2: 18, 3: 9, 4: 12, 5: 26, 6: 8, 7: 16, 8: 8, 9: 13, 10: 31, 11: 3, 12: 28, 13: 12, 14: 10, 15: 6, 16: 11, 17: 10, 18: 15, 19: 2, 20: 87, 21: 15, 22: 8}\n",
      "0.0591182214528\n",
      "n:  24  clusters: {0: 8, 1: 13, 2: 18, 3: 25, 4: 20, 5: 21, 6: 7, 7: 9, 8: 16, 9: 8, 10: 8, 11: 3, 12: 131, 13: 3, 14: 18, 15: 9, 16: 4, 17: 26, 18: 6, 19: 9, 20: 13, 21: 8, 22: 12, 23: 5}\n",
      "0.0538188178789\n",
      "n:  25  clusters: {0: 48, 1: 5, 2: 10, 3: 32, 4: 23, 5: 15, 6: 8, 7: 9, 8: 19, 9: 13, 10: 9, 11: 8, 12: 7, 13: 14, 14: 6, 15: 7, 16: 5, 17: 8, 18: 19, 19: 29, 20: 13, 21: 45, 22: 10, 23: 28, 24: 10}\n",
      "0.0624373956483\n",
      "n:  26  clusters: {0: 7, 1: 13, 2: 8, 3: 22, 4: 19, 5: 18, 6: 13, 7: 4, 8: 5, 9: 18, 10: 10, 11: 19, 12: 9, 13: 8, 14: 7, 15: 2, 16: 17, 17: 11, 18: 13, 19: 3, 20: 28, 21: 106, 22: 8, 23: 3, 24: 3, 25: 26}\n",
      "0.0587667911013\n",
      "n:  27  clusters: {0: 9, 1: 20, 2: 19, 3: 2, 4: 3, 5: 9, 6: 25, 7: 16, 8: 8, 9: 27, 10: 45, 11: 10, 12: 8, 13: 8, 14: 3, 15: 18, 16: 10, 17: 8, 18: 18, 19: 19, 20: 17, 21: 6, 22: 8, 23: 9, 24: 7, 25: 3, 26: 65}\n",
      "0.0548008158888\n",
      "n:  28  clusters: {0: 6, 1: 15, 2: 18, 3: 9, 4: 10, 5: 9, 6: 8, 7: 9, 8: 70, 9: 11, 10: 7, 11: 5, 12: 43, 13: 14, 14: 17, 15: 18, 16: 18, 17: 20, 18: 7, 19: 13, 20: 16, 21: 11, 22: 8, 23: 7, 24: 6, 25: 9, 26: 7, 27: 9}\n",
      "0.0651527661411\n",
      "n:  29  clusters: {0: 15, 1: 9, 2: 15, 3: 25, 4: 19, 5: 2, 6: 16, 7: 23, 8: 6, 9: 11, 10: 10, 11: 13, 12: 37, 13: 4, 14: 4, 15: 15, 16: 10, 17: 3, 18: 8, 19: 7, 20: 7, 21: 9, 22: 8, 23: 86, 24: 8, 25: 7, 26: 6, 27: 2, 28: 15}\n"
     ]
    }
   ],
   "source": [
    "for n in np.arange(20, 30):\n",
    "    kmeans = KMeans(n_clusters=n)\n",
    "    kmeans.fit(X)\n",
    "    print(silhouette_score(X, kmeans.labels_))\n",
    "    unique, counts = np.unique(kmeans.labels_, return_counts=True)\n",
    "    print(\"n: \", n, \" clusters:\", dict(zip(unique, counts)))"
   ]
  },
  {
   "cell_type": "markdown",
   "metadata": {},
   "source": [
    "Around 20-25 clusters the distortion value doesn't change a lot.\n",
    "There is still a cluster that has 100+ but the other cluesters are kind of equal. By plotting the values using PCA with 2 components we can't see a clear separation of clusters"
   ]
  },
  {
   "cell_type": "code",
   "execution_count": 73,
   "metadata": {},
   "outputs": [
    {
     "name": "stdout",
     "output_type": "stream",
     "text": [
      "0.0591402381463\n"
     ]
    },
    {
     "data": {
      "text/plain": [
       "<matplotlib.collections.PathCollection at 0x7fa452556198>"
      ]
     },
     "execution_count": 73,
     "metadata": {},
     "output_type": "execute_result"
    },
    {
     "data": {
      "image/png": "[encoded data removed]",
      "text/plain": [
       "<Figure size 432x288 with 1 Axes>"
      ]
     },
     "metadata": {
      "needs_background": "light"
     },
     "output_type": "display_data"
    }
   ],
   "source": [
    "pca = PCA(n_components=2)\n",
    "x_emdb = pca.fit_transform(X)\n",
    "clusters = pca.transform(kmeans.cluster_centers_)\n",
    "print(silhouette_score(X, kmeans.labels_))\n",
    "plt.scatter(x_emdb[:, 0], x_emdb[:, 1])\n",
    "plt.scatter(clusters[:, 0], clusters[:, 1], marker='*', c='red')"
   ]
  },
  {
   "cell_type": "code",
   "execution_count": 64,
   "metadata": {},
   "outputs": [
    {
     "name": "stdout",
     "output_type": "stream",
     "text": [
      "0.0295553677671\n",
      "n:  5  clusters: {0: 38, 1: 21, 2: 307, 3: 26, 4: 8}\n",
      "0.0333111453922\n",
      "n:  6  clusters: {0: 307, 1: 21, 2: 18, 3: 26, 4: 8, 5: 20}\n",
      "0.0384988582625\n",
      "n:  7  clusters: {0: 21, 1: 299, 2: 18, 3: 26, 4: 8, 5: 20, 6: 8}\n",
      "0.0407861816598\n",
      "n:  8  clusters: {0: 299, 1: 26, 2: 18, 3: 12, 4: 8, 5: 20, 6: 8, 7: 9}\n",
      "0.0442475231043\n",
      "n:  9  clusters: {0: 290, 1: 26, 2: 18, 3: 9, 4: 8, 5: 20, 6: 8, 7: 9, 8: 12}\n",
      "0.0466865870836\n",
      "n:  10  clusters: {0: 284, 1: 26, 2: 18, 3: 9, 4: 6, 5: 20, 6: 8, 7: 9, 8: 12, 9: 8}\n",
      "0.0490219446988\n",
      "n:  11  clusters: {0: 278, 1: 26, 2: 18, 3: 9, 4: 6, 5: 20, 6: 8, 7: 9, 8: 12, 9: 8, 10: 6}\n",
      "0.0528960857823\n",
      "n:  12  clusters: {0: 275, 1: 26, 2: 18, 3: 9, 4: 6, 5: 20, 6: 8, 7: 9, 8: 12, 9: 8, 10: 6, 11: 3}\n",
      "0.0559945730593\n",
      "n:  13  clusters: {0: 272, 1: 26, 2: 18, 3: 9, 4: 6, 5: 20, 6: 8, 7: 9, 8: 12, 9: 8, 10: 6, 11: 3, 12: 3}\n",
      "0.0582316573455\n",
      "n:  14  clusters: {0: 26, 1: 265, 2: 18, 3: 9, 4: 6, 5: 20, 6: 7, 7: 9, 8: 12, 9: 8, 10: 6, 11: 3, 12: 3, 13: 8}\n",
      "0.0541572913481\n",
      "n:  15  clusters: {0: 265, 1: 9, 2: 18, 3: 10, 4: 6, 5: 20, 6: 7, 7: 9, 8: 12, 9: 8, 10: 6, 11: 3, 12: 3, 13: 8, 14: 16}\n",
      "0.0565407290785\n",
      "n:  16  clusters: {0: 262, 1: 9, 2: 18, 3: 10, 4: 6, 5: 20, 6: 7, 7: 9, 8: 12, 9: 8, 10: 6, 11: 3, 12: 3, 13: 8, 14: 16, 15: 3}\n",
      "0.0590506662147\n",
      "n:  17  clusters: {0: 18, 1: 9, 2: 259, 3: 10, 4: 6, 5: 20, 6: 7, 7: 9, 8: 12, 9: 8, 10: 6, 11: 3, 12: 3, 13: 8, 14: 16, 15: 3, 16: 3}\n",
      "0.0574151944875\n",
      "n:  18  clusters: {0: 9, 1: 10, 2: 259, 3: 13, 4: 6, 5: 20, 6: 7, 7: 9, 8: 12, 9: 8, 10: 6, 11: 3, 12: 3, 13: 8, 14: 16, 15: 3, 16: 3, 17: 5}\n",
      "0.05922670656\n",
      "n:  19  clusters: {0: 259, 1: 10, 2: 20, 3: 13, 4: 6, 5: 6, 6: 7, 7: 9, 8: 12, 9: 8, 10: 6, 11: 3, 12: 3, 13: 8, 14: 16, 15: 3, 16: 3, 17: 5, 18: 3}\n"
     ]
    }
   ],
   "source": [
    "for n in np.arange(5, 20):\n",
    "    agg = AgglomerativeClustering(n_clusters=n)\n",
    "    agg.fit(X)\n",
    "    unique, counts = np.unique(agg.labels_, return_counts=True)\n",
    "    print(silhouette_score(X, agg.labels_))\n",
    "    print(\"n: \", n, \" clusters:\", dict(zip(unique, counts)))"
   ]
  },
  {
   "cell_type": "code",
   "execution_count": 65,
   "metadata": {},
   "outputs": [
    {
     "name": "stdout",
     "output_type": "stream",
     "text": [
      "0.060684541987\n",
      "n:  20  clusters: {0: 163, 1: 96, 2: 20, 3: 13, 4: 10, 5: 6, 6: 7, 7: 9, 8: 12, 9: 6, 10: 6, 11: 3, 12: 3, 13: 8, 14: 16, 15: 3, 16: 3, 17: 5, 18: 3, 19: 8}\n",
      "0.0621842276938\n",
      "n:  21  clusters: {0: 96, 1: 149, 2: 20, 3: 13, 4: 14, 5: 6, 6: 7, 7: 9, 8: 12, 9: 10, 10: 6, 11: 3, 12: 3, 13: 8, 14: 16, 15: 3, 16: 3, 17: 5, 18: 3, 19: 8, 20: 6}\n",
      "0.063474248721\n",
      "n:  22  clusters: {0: 149, 1: 50, 2: 20, 3: 13, 4: 14, 5: 6, 6: 7, 7: 9, 8: 12, 9: 10, 10: 46, 11: 3, 12: 3, 13: 8, 14: 16, 15: 3, 16: 3, 17: 5, 18: 3, 19: 8, 20: 6, 21: 6}\n",
      "0.0656092868026\n",
      "n:  23  clusters: {0: 50, 1: 14, 2: 20, 3: 13, 4: 46, 5: 6, 6: 7, 7: 9, 8: 12, 9: 10, 10: 4, 11: 3, 12: 3, 13: 8, 14: 16, 15: 3, 16: 3, 17: 5, 18: 3, 19: 8, 20: 6, 21: 6, 22: 145}\n",
      "0.0690766836024\n",
      "n:  24  clusters: {0: 14, 1: 46, 2: 20, 3: 13, 4: 4, 5: 6, 6: 7, 7: 9, 8: 12, 9: 10, 10: 145, 11: 3, 12: 3, 13: 8, 14: 16, 15: 3, 16: 3, 17: 5, 18: 3, 19: 8, 20: 6, 21: 6, 22: 48, 23: 2}\n",
      "0.0704153583233\n",
      "n:  25  clusters: {0: 46, 1: 4, 2: 20, 3: 13, 4: 145, 5: 6, 6: 7, 7: 9, 8: 12, 9: 10, 10: 8, 11: 6, 12: 3, 13: 8, 14: 16, 15: 3, 16: 3, 17: 5, 18: 3, 19: 8, 20: 6, 21: 6, 22: 48, 23: 2, 24: 3}\n",
      "0.0736074323757\n",
      "n:  26  clusters: {0: 4, 1: 145, 2: 20, 3: 13, 4: 8, 5: 6, 6: 7, 7: 9, 8: 12, 9: 10, 10: 48, 11: 6, 12: 3, 13: 8, 14: 16, 15: 3, 16: 3, 17: 5, 18: 3, 19: 8, 20: 6, 21: 6, 22: 44, 23: 2, 24: 3, 25: 2}\n",
      "0.0776883623507\n",
      "n:  27  clusters: {0: 145, 1: 8, 2: 20, 3: 13, 4: 48, 5: 6, 6: 7, 7: 9, 8: 12, 9: 10, 10: 44, 11: 6, 12: 3, 13: 8, 14: 16, 15: 3, 16: 3, 17: 5, 18: 3, 19: 8, 20: 6, 21: 6, 22: 2, 23: 2, 24: 3, 25: 2, 26: 2}\n",
      "0.0804736055096\n",
      "n:  28  clusters: {0: 143, 1: 8, 2: 20, 3: 13, 4: 48, 5: 6, 6: 7, 7: 9, 8: 12, 9: 10, 10: 44, 11: 6, 12: 3, 13: 8, 14: 16, 15: 3, 16: 3, 17: 5, 18: 3, 19: 8, 20: 6, 21: 6, 22: 2, 23: 2, 24: 3, 25: 2, 26: 2, 27: 2}\n",
      "0.0831178867237\n",
      "n:  29  clusters: {0: 141, 1: 8, 2: 20, 3: 13, 4: 48, 5: 6, 6: 7, 7: 9, 8: 12, 9: 10, 10: 44, 11: 6, 12: 3, 13: 8, 14: 16, 15: 3, 16: 3, 17: 5, 18: 3, 19: 8, 20: 6, 21: 6, 22: 2, 23: 2, 24: 3, 25: 2, 26: 2, 27: 2, 28: 2}\n"
     ]
    }
   ],
   "source": [
    "for n in np.arange(20, 30):\n",
    "    agg = AgglomerativeClustering(n_clusters=n)\n",
    "    agg.fit(X)\n",
    "    unique, counts = np.unique(agg.labels_, return_counts=True)\n",
    "    print(silhouette_score(X, agg.labels_))\n",
    "    print(\"n: \", n, \" clusters:\", dict(zip(unique, counts)))"
   ]
  },
  {
   "cell_type": "markdown",
   "metadata": {},
   "source": [
    "The results of Kmeans and Agglomerative are not verry different"
   ]
  },
  {
   "cell_type": "code",
   "execution_count": 71,
   "metadata": {},
   "outputs": [
    {
     "name": "stdout",
     "output_type": "stream",
     "text": [
      "Adjusted rand  0.17203085835718337\n",
      "Homogenity score  0.545740796335\n",
      "Completness score  0.664117243198\n"
     ]
    }
   ],
   "source": [
    "print('Adjusted rand ', adjusted_rand_score(kmeans.labels_, agg.labels_))\n",
    "print('Homogenity score ', homogeneity_score(kmeans.labels_, agg.labels_))\n",
    "print('Completness score ', completeness_score(kmeans.labels_, agg.labels_))"
   ]
  }
 ],
 "metadata": {
  "kernelspec": {
   "display_name": "Python 3",
   "language": "python",
   "name": "python3"
  },
  "language_info": {
   "codemirror_mode": {
    "name": "ipython",
    "version": 3
   },
   "file_extension": ".py",
   "mimetype": "text/x-python",
   "name": "python",
   "nbconvert_exporter": "python",
   "pygments_lexer": "ipython3",
   "version": "3.6.6"
  }
 },
 "nbformat": 4,
 "nbformat_minor": 2
}
